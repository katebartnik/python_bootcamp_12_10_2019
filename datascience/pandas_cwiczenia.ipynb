{
 "cells": [
  {
   "cell_type": "code",
   "execution_count": 1,
   "metadata": {},
   "outputs": [],
   "source": [
    "import pandas as pd\n",
    "import matplotlib.pyplot as plt"
   ]
  },
  {
   "cell_type": "code",
   "execution_count": 2,
   "metadata": {},
   "outputs": [
    {
     "name": "stdout",
     "output_type": "stream",
     "text": [
      " Wolumin w stacji C nie ma etykiety.\n",
      " Numer seryjny woluminu: 8C5A-2D9C\n",
      "\n",
      " Katalog: C:\\Users\\kurs\\workspace\\python_bootcamp\\datascience\n",
      "\n",
      "2019-12-21  14:37    <DIR>          .\n",
      "2019-12-21  14:37    <DIR>          ..\n",
      "2019-12-21  14:21    <DIR>          .ipynb_checkpoints\n",
      "2019-12-21  08:58             2˙282 bmp.py\n",
      "2019-12-21  08:58             7˙495 ex_1.ipynb\n",
      "2019-12-21  08:58               188 ex_1.py\n",
      "2019-12-21  08:58             8˙211 ex_2.ipynb\n",
      "2019-12-21  08:58             1˙181 ex_2.py\n",
      "2019-12-21  08:58            15˙450 ex_3.ipynb\n",
      "2019-12-21  08:58            19˙288 ex_4.ipynb\n",
      "2019-12-21  13:54    <DIR>          files_pandas_21_01_2017\n",
      "2019-12-21  09:50    <DIR>          images\n",
      "2019-12-21  08:58           243˙898 matplotlib_wprowadzenie.ipynb\n",
      "2019-12-21  08:58           824˙733 numpy_bootcamp_rozwiazania.ipynb\n",
      "2019-12-21  11:51           240˙583 numpy_bootcamp_wprowadzenie.ipynb\n",
      "2019-12-21  12:52           808˙174 numpy_bootcamp_zadania.ipynb\n",
      "2019-12-21  14:36    <DIR>          out\n",
      "2019-12-21  14:37            22˙062 pandas_cwiczenia.ipynb\n",
      "2019-12-21  14:19           157˙322 pandas_wprowadzenie.ipynb\n",
      "2019-12-21  09:39            18˙479 przyklady.ipynb\n",
      "2019-12-21  09:58                86 test_prosty.py\n",
      "2019-12-21  14:35           186˙880 text.xls\n",
      "2019-12-21  14:33             2˙269 tt_l5.xlsx\n",
      "              17 plik(˘w)          2˙558˙581 bajt˘w\n",
      "               6 katalog(˘w)   9˙046˙851˙584 bajt˘w wolnych\n"
     ]
    }
   ],
   "source": [
    "#!pip3 install matplotlib\n",
    "!dir\n",
    "in_path = \"files_pandas_21_01_2017\"\n",
    "out_path = \"out\""
   ]
  },
  {
   "cell_type": "markdown",
   "metadata": {},
   "source": [
    "### Load 'titanic_train.csv' CSV file and save last 5 rows in Excel format"
   ]
  },
  {
   "cell_type": "code",
   "execution_count": 5,
   "metadata": {},
   "outputs": [],
   "source": [
    "df = pd.read_csv(in_path + \"/\" + \"titanic_train.csv\")\n",
    "df.tail().to_excel(out_path + \"/\" + \"text.xls\")\n"
   ]
  },
  {
   "cell_type": "markdown",
   "metadata": {},
   "source": [
    "### Load Excel file from previous exercise and save it again with only first four columns"
   ]
  },
  {
   "cell_type": "code",
   "execution_count": 8,
   "metadata": {},
   "outputs": [
    {
     "data": {
      "text/html": [
       "<div>\n",
       "<style scoped>\n",
       "    .dataframe tbody tr th:only-of-type {\n",
       "        vertical-align: middle;\n",
       "    }\n",
       "\n",
       "    .dataframe tbody tr th {\n",
       "        vertical-align: top;\n",
       "    }\n",
       "\n",
       "    .dataframe thead th {\n",
       "        text-align: right;\n",
       "    }\n",
       "</style>\n",
       "<table border=\"1\" class=\"dataframe\">\n",
       "  <thead>\n",
       "    <tr style=\"text-align: right;\">\n",
       "      <th></th>\n",
       "      <th>Unnamed: 0</th>\n",
       "      <th>PassengerId</th>\n",
       "      <th>Survived</th>\n",
       "      <th>Pclass</th>\n",
       "    </tr>\n",
       "  </thead>\n",
       "  <tbody>\n",
       "    <tr>\n",
       "      <th>0</th>\n",
       "      <td>886</td>\n",
       "      <td>887</td>\n",
       "      <td>0</td>\n",
       "      <td>2</td>\n",
       "    </tr>\n",
       "    <tr>\n",
       "      <th>1</th>\n",
       "      <td>887</td>\n",
       "      <td>888</td>\n",
       "      <td>1</td>\n",
       "      <td>1</td>\n",
       "    </tr>\n",
       "    <tr>\n",
       "      <th>2</th>\n",
       "      <td>888</td>\n",
       "      <td>889</td>\n",
       "      <td>0</td>\n",
       "      <td>3</td>\n",
       "    </tr>\n",
       "    <tr>\n",
       "      <th>3</th>\n",
       "      <td>889</td>\n",
       "      <td>890</td>\n",
       "      <td>1</td>\n",
       "      <td>1</td>\n",
       "    </tr>\n",
       "    <tr>\n",
       "      <th>4</th>\n",
       "      <td>890</td>\n",
       "      <td>891</td>\n",
       "      <td>0</td>\n",
       "      <td>3</td>\n",
       "    </tr>\n",
       "  </tbody>\n",
       "</table>\n",
       "</div>"
      ],
      "text/plain": [
       "   Unnamed: 0  PassengerId  Survived  Pclass\n",
       "0         886          887         0       2\n",
       "1         887          888         1       1\n",
       "2         888          889         0       3\n",
       "3         889          890         1       1\n",
       "4         890          891         0       3"
      ]
     },
     "execution_count": 8,
     "metadata": {},
     "output_type": "execute_result"
    }
   ],
   "source": [
    "df = pd.read_excel(out_path + \"/\" + \"text.xls\")\n",
    "df.iloc[:, :4].to_ex"
   ]
  },
  {
   "cell_type": "markdown",
   "metadata": {},
   "source": [
    "### Test how loc and iloc works (be creative :) )"
   ]
  },
  {
   "cell_type": "code",
   "execution_count": null,
   "metadata": {},
   "outputs": [],
   "source": []
  },
  {
   "cell_type": "markdown",
   "metadata": {},
   "source": [
    "### Załaduj plik csv z `titanic_train.csv` z folderu `files_pandas_21_01_2017`"
   ]
  },
  {
   "cell_type": "code",
   "execution_count": 9,
   "metadata": {},
   "outputs": [],
   "source": [
    "df = pd.read_csv(in_path + \"/\" + \"titanic_train.csv\")"
   ]
  },
  {
   "cell_type": "markdown",
   "metadata": {},
   "source": [
    "#### Sprawdź pierwsze wiersze"
   ]
  },
  {
   "cell_type": "code",
   "execution_count": 10,
   "metadata": {},
   "outputs": [
    {
     "data": {
      "text/html": [
       "<div>\n",
       "<style scoped>\n",
       "    .dataframe tbody tr th:only-of-type {\n",
       "        vertical-align: middle;\n",
       "    }\n",
       "\n",
       "    .dataframe tbody tr th {\n",
       "        vertical-align: top;\n",
       "    }\n",
       "\n",
       "    .dataframe thead th {\n",
       "        text-align: right;\n",
       "    }\n",
       "</style>\n",
       "<table border=\"1\" class=\"dataframe\">\n",
       "  <thead>\n",
       "    <tr style=\"text-align: right;\">\n",
       "      <th></th>\n",
       "      <th>PassengerId</th>\n",
       "      <th>Survived</th>\n",
       "      <th>Pclass</th>\n",
       "      <th>Name</th>\n",
       "      <th>Sex</th>\n",
       "      <th>Age</th>\n",
       "      <th>SibSp</th>\n",
       "      <th>Parch</th>\n",
       "      <th>Ticket</th>\n",
       "      <th>Fare</th>\n",
       "      <th>Cabin</th>\n",
       "      <th>Embarked</th>\n",
       "    </tr>\n",
       "  </thead>\n",
       "  <tbody>\n",
       "    <tr>\n",
       "      <th>0</th>\n",
       "      <td>1</td>\n",
       "      <td>0</td>\n",
       "      <td>3</td>\n",
       "      <td>Braund, Mr. Owen Harris</td>\n",
       "      <td>male</td>\n",
       "      <td>22.0</td>\n",
       "      <td>1</td>\n",
       "      <td>0</td>\n",
       "      <td>A/5 21171</td>\n",
       "      <td>7.2500</td>\n",
       "      <td>NaN</td>\n",
       "      <td>S</td>\n",
       "    </tr>\n",
       "    <tr>\n",
       "      <th>1</th>\n",
       "      <td>2</td>\n",
       "      <td>1</td>\n",
       "      <td>1</td>\n",
       "      <td>Cumings, Mrs. John Bradley (Florence Briggs Th...</td>\n",
       "      <td>female</td>\n",
       "      <td>38.0</td>\n",
       "      <td>1</td>\n",
       "      <td>0</td>\n",
       "      <td>PC 17599</td>\n",
       "      <td>71.2833</td>\n",
       "      <td>C85</td>\n",
       "      <td>C</td>\n",
       "    </tr>\n",
       "    <tr>\n",
       "      <th>2</th>\n",
       "      <td>3</td>\n",
       "      <td>1</td>\n",
       "      <td>3</td>\n",
       "      <td>Heikkinen, Miss. Laina</td>\n",
       "      <td>female</td>\n",
       "      <td>26.0</td>\n",
       "      <td>0</td>\n",
       "      <td>0</td>\n",
       "      <td>STON/O2. 3101282</td>\n",
       "      <td>7.9250</td>\n",
       "      <td>NaN</td>\n",
       "      <td>S</td>\n",
       "    </tr>\n",
       "    <tr>\n",
       "      <th>3</th>\n",
       "      <td>4</td>\n",
       "      <td>1</td>\n",
       "      <td>1</td>\n",
       "      <td>Futrelle, Mrs. Jacques Heath (Lily May Peel)</td>\n",
       "      <td>female</td>\n",
       "      <td>35.0</td>\n",
       "      <td>1</td>\n",
       "      <td>0</td>\n",
       "      <td>113803</td>\n",
       "      <td>53.1000</td>\n",
       "      <td>C123</td>\n",
       "      <td>S</td>\n",
       "    </tr>\n",
       "    <tr>\n",
       "      <th>4</th>\n",
       "      <td>5</td>\n",
       "      <td>0</td>\n",
       "      <td>3</td>\n",
       "      <td>Allen, Mr. William Henry</td>\n",
       "      <td>male</td>\n",
       "      <td>35.0</td>\n",
       "      <td>0</td>\n",
       "      <td>0</td>\n",
       "      <td>373450</td>\n",
       "      <td>8.0500</td>\n",
       "      <td>NaN</td>\n",
       "      <td>S</td>\n",
       "    </tr>\n",
       "  </tbody>\n",
       "</table>\n",
       "</div>"
      ],
      "text/plain": [
       "   PassengerId  Survived  Pclass  \\\n",
       "0            1         0       3   \n",
       "1            2         1       1   \n",
       "2            3         1       3   \n",
       "3            4         1       1   \n",
       "4            5         0       3   \n",
       "\n",
       "                                                Name     Sex   Age  SibSp  \\\n",
       "0                            Braund, Mr. Owen Harris    male  22.0      1   \n",
       "1  Cumings, Mrs. John Bradley (Florence Briggs Th...  female  38.0      1   \n",
       "2                             Heikkinen, Miss. Laina  female  26.0      0   \n",
       "3       Futrelle, Mrs. Jacques Heath (Lily May Peel)  female  35.0      1   \n",
       "4                           Allen, Mr. William Henry    male  35.0      0   \n",
       "\n",
       "   Parch            Ticket     Fare Cabin Embarked  \n",
       "0      0         A/5 21171   7.2500   NaN        S  \n",
       "1      0          PC 17599  71.2833   C85        C  \n",
       "2      0  STON/O2. 3101282   7.9250   NaN        S  \n",
       "3      0            113803  53.1000  C123        S  \n",
       "4      0            373450   8.0500   NaN        S  "
      ]
     },
     "execution_count": 10,
     "metadata": {},
     "output_type": "execute_result"
    }
   ],
   "source": [
    "df.head()"
   ]
  },
  {
   "cell_type": "markdown",
   "metadata": {},
   "source": [
    "#### Policz wystąpienia wartości zmiennej survived"
   ]
  },
  {
   "cell_type": "code",
   "execution_count": 11,
   "metadata": {},
   "outputs": [
    {
     "data": {
      "text/plain": [
       "0    549\n",
       "1    342\n",
       "Name: Survived, dtype: int64"
      ]
     },
     "execution_count": 11,
     "metadata": {},
     "output_type": "execute_result"
    }
   ],
   "source": [
    "df.Survived.value_counts()"
   ]
  },
  {
   "cell_type": "markdown",
   "metadata": {},
   "source": [
    "#### Sprawdź typy danych"
   ]
  },
  {
   "cell_type": "code",
   "execution_count": 12,
   "metadata": {},
   "outputs": [
    {
     "data": {
      "text/plain": [
       "PassengerId      int64\n",
       "Survived         int64\n",
       "Pclass           int64\n",
       "Name            object\n",
       "Sex             object\n",
       "Age            float64\n",
       "SibSp            int64\n",
       "Parch            int64\n",
       "Ticket          object\n",
       "Fare           float64\n",
       "Cabin           object\n",
       "Embarked        object\n",
       "dtype: object"
      ]
     },
     "execution_count": 12,
     "metadata": {},
     "output_type": "execute_result"
    }
   ],
   "source": [
    "df.dtypes"
   ]
  },
  {
   "cell_type": "markdown",
   "metadata": {},
   "source": [
    "# Wróćmy do wykładu - Zmiana typów danych w czasie odczytu"
   ]
  },
  {
   "cell_type": "markdown",
   "metadata": {},
   "source": [
    "## Exercises"
   ]
  },
  {
   "cell_type": "markdown",
   "metadata": {},
   "source": [
    "### Load 'titanic_train.csv' file, with category type for all columns that are compatible with this type."
   ]
  },
  {
   "cell_type": "code",
   "execution_count": null,
   "metadata": {},
   "outputs": [],
   "source": []
  },
  {
   "cell_type": "markdown",
   "metadata": {},
   "source": [
    "### Fill NaN values in Age column with mean value of this column."
   ]
  },
  {
   "cell_type": "code",
   "execution_count": null,
   "metadata": {},
   "outputs": [],
   "source": []
  },
  {
   "cell_type": "markdown",
   "metadata": {},
   "source": [
    "### Fill NaN values in Embarked with most common location."
   ]
  },
  {
   "cell_type": "markdown",
   "metadata": {},
   "source": [
    "### Create 3 Series with different indexes that overlap a bit (i.e. 1-10, 5-15, 10-20). Create DataFrame from them and see what happens."
   ]
  },
  {
   "cell_type": "code",
   "execution_count": null,
   "metadata": {},
   "outputs": [],
   "source": []
  },
  {
   "cell_type": "markdown",
   "metadata": {},
   "source": [
    "### Display passengers with Age above 50"
   ]
  },
  {
   "cell_type": "code",
   "execution_count": null,
   "metadata": {},
   "outputs": [],
   "source": []
  },
  {
   "cell_type": "markdown",
   "metadata": {},
   "source": [
    "### Display passengers that Embarked at location S and are female"
   ]
  },
  {
   "cell_type": "code",
   "execution_count": null,
   "metadata": {},
   "outputs": [],
   "source": []
  },
  {
   "cell_type": "markdown",
   "metadata": {},
   "source": [
    "### Display passengers that paid for ticket more than 50 and are not in first class"
   ]
  },
  {
   "cell_type": "code",
   "execution_count": null,
   "metadata": {},
   "outputs": [],
   "source": []
  },
  {
   "cell_type": "markdown",
   "metadata": {},
   "source": [
    "### Display all passengers with Names that contain 'Johnson' (it's a surname)"
   ]
  },
  {
   "cell_type": "code",
   "execution_count": null,
   "metadata": {},
   "outputs": [],
   "source": []
  },
  {
   "cell_type": "markdown",
   "metadata": {},
   "source": [
    "# Dodatkowe ćwiczenia\n",
    "\n",
    "Korzystając z pliku `matches.csv` zawierającego dane o rozgrywkach piłkarskich:\n",
    "\n",
    "1. Znajdź wszystkie mecze pomiędzy dwoma wybranymi drużynami w latach 2010-2015.\\\n",
    "2. Znajdź 10 meczów z największą różnicą bramek.\n",
    "3. Policz liczbę zdobytych i straconych bramek na sezon dla wybranej drużyny. Narysuj wykres obrazujący uzyskane wyniki.\n",
    "4. Policz średnią liczbę bramek przypadającą na jeden mecz w każdej lidze. Narysuj wykres obrazujący uzyskane wyniki."
   ]
  },
  {
   "cell_type": "code",
   "execution_count": 15,
   "metadata": {},
   "outputs": [
    {
     "data": {
      "text/html": [
       "<div>\n",
       "<style scoped>\n",
       "    .dataframe tbody tr th:only-of-type {\n",
       "        vertical-align: middle;\n",
       "    }\n",
       "\n",
       "    .dataframe tbody tr th {\n",
       "        vertical-align: top;\n",
       "    }\n",
       "\n",
       "    .dataframe thead th {\n",
       "        text-align: right;\n",
       "    }\n",
       "</style>\n",
       "<table border=\"1\" class=\"dataframe\">\n",
       "  <thead>\n",
       "    <tr style=\"text-align: right;\">\n",
       "      <th></th>\n",
       "      <th>country</th>\n",
       "      <th>league</th>\n",
       "      <th>home_team</th>\n",
       "      <th>away_team</th>\n",
       "      <th>date</th>\n",
       "      <th>season</th>\n",
       "      <th>home_team_goal</th>\n",
       "      <th>away_team_goal</th>\n",
       "    </tr>\n",
       "  </thead>\n",
       "  <tbody>\n",
       "    <tr>\n",
       "      <th>0</th>\n",
       "      <td>Belgium</td>\n",
       "      <td>Belgium Jupiler League</td>\n",
       "      <td>KRC Genk</td>\n",
       "      <td>Beerschot AC</td>\n",
       "      <td>2008-08-17</td>\n",
       "      <td>2008/2009</td>\n",
       "      <td>1</td>\n",
       "      <td>1</td>\n",
       "    </tr>\n",
       "    <tr>\n",
       "      <th>1</th>\n",
       "      <td>Belgium</td>\n",
       "      <td>Belgium Jupiler League</td>\n",
       "      <td>SV Zulte-Waregem</td>\n",
       "      <td>Sporting Lokeren</td>\n",
       "      <td>2008-08-16</td>\n",
       "      <td>2008/2009</td>\n",
       "      <td>0</td>\n",
       "      <td>0</td>\n",
       "    </tr>\n",
       "    <tr>\n",
       "      <th>2</th>\n",
       "      <td>Belgium</td>\n",
       "      <td>Belgium Jupiler League</td>\n",
       "      <td>KSV Cercle Brugge</td>\n",
       "      <td>RSC Anderlecht</td>\n",
       "      <td>2008-08-16</td>\n",
       "      <td>2008/2009</td>\n",
       "      <td>0</td>\n",
       "      <td>3</td>\n",
       "    </tr>\n",
       "    <tr>\n",
       "      <th>3</th>\n",
       "      <td>Belgium</td>\n",
       "      <td>Belgium Jupiler League</td>\n",
       "      <td>KAA Gent</td>\n",
       "      <td>RAEC Mons</td>\n",
       "      <td>2008-08-17</td>\n",
       "      <td>2008/2009</td>\n",
       "      <td>5</td>\n",
       "      <td>0</td>\n",
       "    </tr>\n",
       "    <tr>\n",
       "      <th>4</th>\n",
       "      <td>Belgium</td>\n",
       "      <td>Belgium Jupiler League</td>\n",
       "      <td>FCV Dender EH</td>\n",
       "      <td>Standard de Liège</td>\n",
       "      <td>2008-08-16</td>\n",
       "      <td>2008/2009</td>\n",
       "      <td>1</td>\n",
       "      <td>3</td>\n",
       "    </tr>\n",
       "    <tr>\n",
       "      <th>...</th>\n",
       "      <td>...</td>\n",
       "      <td>...</td>\n",
       "      <td>...</td>\n",
       "      <td>...</td>\n",
       "      <td>...</td>\n",
       "      <td>...</td>\n",
       "      <td>...</td>\n",
       "      <td>...</td>\n",
       "    </tr>\n",
       "    <tr>\n",
       "      <th>25974</th>\n",
       "      <td>Switzerland</td>\n",
       "      <td>Switzerland Super League</td>\n",
       "      <td>FC St. Gallen</td>\n",
       "      <td>FC Thun</td>\n",
       "      <td>2015-09-22</td>\n",
       "      <td>2015/2016</td>\n",
       "      <td>1</td>\n",
       "      <td>0</td>\n",
       "    </tr>\n",
       "    <tr>\n",
       "      <th>25975</th>\n",
       "      <td>Switzerland</td>\n",
       "      <td>Switzerland Super League</td>\n",
       "      <td>FC Vaduz</td>\n",
       "      <td>FC Luzern</td>\n",
       "      <td>2015-09-23</td>\n",
       "      <td>2015/2016</td>\n",
       "      <td>1</td>\n",
       "      <td>2</td>\n",
       "    </tr>\n",
       "    <tr>\n",
       "      <th>25976</th>\n",
       "      <td>Switzerland</td>\n",
       "      <td>Switzerland Super League</td>\n",
       "      <td>Grasshopper Club Zürich</td>\n",
       "      <td>FC Sion</td>\n",
       "      <td>2015-09-23</td>\n",
       "      <td>2015/2016</td>\n",
       "      <td>2</td>\n",
       "      <td>0</td>\n",
       "    </tr>\n",
       "    <tr>\n",
       "      <th>25977</th>\n",
       "      <td>Switzerland</td>\n",
       "      <td>Switzerland Super League</td>\n",
       "      <td>Lugano</td>\n",
       "      <td>FC Zürich</td>\n",
       "      <td>2015-09-22</td>\n",
       "      <td>2015/2016</td>\n",
       "      <td>0</td>\n",
       "      <td>0</td>\n",
       "    </tr>\n",
       "    <tr>\n",
       "      <th>25978</th>\n",
       "      <td>Switzerland</td>\n",
       "      <td>Switzerland Super League</td>\n",
       "      <td>BSC Young Boys</td>\n",
       "      <td>FC Basel</td>\n",
       "      <td>2015-09-23</td>\n",
       "      <td>2015/2016</td>\n",
       "      <td>4</td>\n",
       "      <td>3</td>\n",
       "    </tr>\n",
       "  </tbody>\n",
       "</table>\n",
       "<p>25979 rows × 8 columns</p>\n",
       "</div>"
      ],
      "text/plain": [
       "           country                    league                home_team  \\\n",
       "0          Belgium    Belgium Jupiler League                 KRC Genk   \n",
       "1          Belgium    Belgium Jupiler League         SV Zulte-Waregem   \n",
       "2          Belgium    Belgium Jupiler League        KSV Cercle Brugge   \n",
       "3          Belgium    Belgium Jupiler League                 KAA Gent   \n",
       "4          Belgium    Belgium Jupiler League            FCV Dender EH   \n",
       "...            ...                       ...                      ...   \n",
       "25974  Switzerland  Switzerland Super League            FC St. Gallen   \n",
       "25975  Switzerland  Switzerland Super League                 FC Vaduz   \n",
       "25976  Switzerland  Switzerland Super League  Grasshopper Club Zürich   \n",
       "25977  Switzerland  Switzerland Super League                   Lugano   \n",
       "25978  Switzerland  Switzerland Super League           BSC Young Boys   \n",
       "\n",
       "               away_team       date     season  home_team_goal  away_team_goal  \n",
       "0           Beerschot AC 2008-08-17  2008/2009               1               1  \n",
       "1       Sporting Lokeren 2008-08-16  2008/2009               0               0  \n",
       "2         RSC Anderlecht 2008-08-16  2008/2009               0               3  \n",
       "3              RAEC Mons 2008-08-17  2008/2009               5               0  \n",
       "4      Standard de Liège 2008-08-16  2008/2009               1               3  \n",
       "...                  ...        ...        ...             ...             ...  \n",
       "25974            FC Thun 2015-09-22  2015/2016               1               0  \n",
       "25975          FC Luzern 2015-09-23  2015/2016               1               2  \n",
       "25976            FC Sion 2015-09-23  2015/2016               2               0  \n",
       "25977          FC Zürich 2015-09-22  2015/2016               0               0  \n",
       "25978           FC Basel 2015-09-23  2015/2016               4               3  \n",
       "\n",
       "[25979 rows x 8 columns]"
      ]
     },
     "execution_count": 15,
     "metadata": {},
     "output_type": "execute_result"
    }
   ],
   "source": [
    "matches = pd.read_csv(in_path + \"/\" + \"matches.csv\", parse_dates= [\"date\"])\n",
    "matches"
   ]
  },
  {
   "cell_type": "code",
   "execution_count": 25,
   "metadata": {},
   "outputs": [
    {
     "data": {
      "text/html": [
       "<div>\n",
       "<style scoped>\n",
       "    .dataframe tbody tr th:only-of-type {\n",
       "        vertical-align: middle;\n",
       "    }\n",
       "\n",
       "    .dataframe tbody tr th {\n",
       "        vertical-align: top;\n",
       "    }\n",
       "\n",
       "    .dataframe thead th {\n",
       "        text-align: right;\n",
       "    }\n",
       "</style>\n",
       "<table border=\"1\" class=\"dataframe\">\n",
       "  <thead>\n",
       "    <tr style=\"text-align: right;\">\n",
       "      <th></th>\n",
       "      <th>country</th>\n",
       "      <th>league</th>\n",
       "      <th>home_team</th>\n",
       "      <th>away_team</th>\n",
       "      <th>date</th>\n",
       "      <th>season</th>\n",
       "      <th>home_team_goal</th>\n",
       "      <th>away_team_goal</th>\n",
       "    </tr>\n",
       "  </thead>\n",
       "  <tbody>\n",
       "    <tr>\n",
       "      <th>16088</th>\n",
       "      <td>Poland</td>\n",
       "      <td>Poland Ekstraklasa</td>\n",
       "      <td>Lech Poznań</td>\n",
       "      <td>Legia Warszawa</td>\n",
       "      <td>2010-04-03</td>\n",
       "      <td>2009/2010</td>\n",
       "      <td>1</td>\n",
       "      <td>0</td>\n",
       "    </tr>\n",
       "    <tr>\n",
       "      <th>16315</th>\n",
       "      <td>Poland</td>\n",
       "      <td>Poland Ekstraklasa</td>\n",
       "      <td>Lech Poznań</td>\n",
       "      <td>Legia Warszawa</td>\n",
       "      <td>2011-04-16</td>\n",
       "      <td>2010/2011</td>\n",
       "      <td>1</td>\n",
       "      <td>0</td>\n",
       "    </tr>\n",
       "    <tr>\n",
       "      <th>16419</th>\n",
       "      <td>Poland</td>\n",
       "      <td>Poland Ekstraklasa</td>\n",
       "      <td>Legia Warszawa</td>\n",
       "      <td>Lech Poznań</td>\n",
       "      <td>2010-09-24</td>\n",
       "      <td>2010/2011</td>\n",
       "      <td>2</td>\n",
       "      <td>1</td>\n",
       "    </tr>\n",
       "    <tr>\n",
       "      <th>16468</th>\n",
       "      <td>Poland</td>\n",
       "      <td>Poland Ekstraklasa</td>\n",
       "      <td>Lech Poznań</td>\n",
       "      <td>Legia Warszawa</td>\n",
       "      <td>2011-10-30</td>\n",
       "      <td>2011/2012</td>\n",
       "      <td>0</td>\n",
       "      <td>0</td>\n",
       "    </tr>\n",
       "    <tr>\n",
       "      <th>16596</th>\n",
       "      <td>Poland</td>\n",
       "      <td>Poland Ekstraklasa</td>\n",
       "      <td>Legia Warszawa</td>\n",
       "      <td>Lech Poznań</td>\n",
       "      <td>2012-04-21</td>\n",
       "      <td>2011/2012</td>\n",
       "      <td>0</td>\n",
       "      <td>1</td>\n",
       "    </tr>\n",
       "    <tr>\n",
       "      <th>16706</th>\n",
       "      <td>Poland</td>\n",
       "      <td>Poland Ekstraklasa</td>\n",
       "      <td>Lech Poznań</td>\n",
       "      <td>Legia Warszawa</td>\n",
       "      <td>2012-11-18</td>\n",
       "      <td>2012/2013</td>\n",
       "      <td>1</td>\n",
       "      <td>3</td>\n",
       "    </tr>\n",
       "    <tr>\n",
       "      <th>16836</th>\n",
       "      <td>Poland</td>\n",
       "      <td>Poland Ekstraklasa</td>\n",
       "      <td>Legia Warszawa</td>\n",
       "      <td>Lech Poznań</td>\n",
       "      <td>2013-05-18</td>\n",
       "      <td>2012/2013</td>\n",
       "      <td>1</td>\n",
       "      <td>0</td>\n",
       "    </tr>\n",
       "    <tr>\n",
       "      <th>16960</th>\n",
       "      <td>Poland</td>\n",
       "      <td>Poland Ekstraklasa</td>\n",
       "      <td>Lech Poznań</td>\n",
       "      <td>Legia Warszawa</td>\n",
       "      <td>2013-10-27</td>\n",
       "      <td>2013/2014</td>\n",
       "      <td>1</td>\n",
       "      <td>1</td>\n",
       "    </tr>\n",
       "    <tr>\n",
       "      <th>17088</th>\n",
       "      <td>Poland</td>\n",
       "      <td>Poland Ekstraklasa</td>\n",
       "      <td>Legia Warszawa</td>\n",
       "      <td>Lech Poznań</td>\n",
       "      <td>2014-03-29</td>\n",
       "      <td>2013/2014</td>\n",
       "      <td>1</td>\n",
       "      <td>0</td>\n",
       "    </tr>\n",
       "    <tr>\n",
       "      <th>17172</th>\n",
       "      <td>Poland</td>\n",
       "      <td>Poland Ekstraklasa</td>\n",
       "      <td>Legia Warszawa</td>\n",
       "      <td>Lech Poznań</td>\n",
       "      <td>2014-09-27</td>\n",
       "      <td>2014/2015</td>\n",
       "      <td>2</td>\n",
       "      <td>2</td>\n",
       "    </tr>\n",
       "    <tr>\n",
       "      <th>17300</th>\n",
       "      <td>Poland</td>\n",
       "      <td>Poland Ekstraklasa</td>\n",
       "      <td>Lech Poznań</td>\n",
       "      <td>Legia Warszawa</td>\n",
       "      <td>2015-03-22</td>\n",
       "      <td>2014/2015</td>\n",
       "      <td>2</td>\n",
       "      <td>1</td>\n",
       "    </tr>\n",
       "    <tr>\n",
       "      <th>17440</th>\n",
       "      <td>Poland</td>\n",
       "      <td>Poland Ekstraklasa</td>\n",
       "      <td>Legia Warszawa</td>\n",
       "      <td>Lech Poznań</td>\n",
       "      <td>2015-10-25</td>\n",
       "      <td>2015/2016</td>\n",
       "      <td>0</td>\n",
       "      <td>1</td>\n",
       "    </tr>\n",
       "  </tbody>\n",
       "</table>\n",
       "</div>"
      ],
      "text/plain": [
       "      country              league       home_team       away_team       date  \\\n",
       "16088  Poland  Poland Ekstraklasa     Lech Poznań  Legia Warszawa 2010-04-03   \n",
       "16315  Poland  Poland Ekstraklasa     Lech Poznań  Legia Warszawa 2011-04-16   \n",
       "16419  Poland  Poland Ekstraklasa  Legia Warszawa     Lech Poznań 2010-09-24   \n",
       "16468  Poland  Poland Ekstraklasa     Lech Poznań  Legia Warszawa 2011-10-30   \n",
       "16596  Poland  Poland Ekstraklasa  Legia Warszawa     Lech Poznań 2012-04-21   \n",
       "16706  Poland  Poland Ekstraklasa     Lech Poznań  Legia Warszawa 2012-11-18   \n",
       "16836  Poland  Poland Ekstraklasa  Legia Warszawa     Lech Poznań 2013-05-18   \n",
       "16960  Poland  Poland Ekstraklasa     Lech Poznań  Legia Warszawa 2013-10-27   \n",
       "17088  Poland  Poland Ekstraklasa  Legia Warszawa     Lech Poznań 2014-03-29   \n",
       "17172  Poland  Poland Ekstraklasa  Legia Warszawa     Lech Poznań 2014-09-27   \n",
       "17300  Poland  Poland Ekstraklasa     Lech Poznań  Legia Warszawa 2015-03-22   \n",
       "17440  Poland  Poland Ekstraklasa  Legia Warszawa     Lech Poznań 2015-10-25   \n",
       "\n",
       "          season  home_team_goal  away_team_goal  \n",
       "16088  2009/2010               1               0  \n",
       "16315  2010/2011               1               0  \n",
       "16419  2010/2011               2               1  \n",
       "16468  2011/2012               0               0  \n",
       "16596  2011/2012               0               1  \n",
       "16706  2012/2013               1               3  \n",
       "16836  2012/2013               1               0  \n",
       "16960  2013/2014               1               1  \n",
       "17088  2013/2014               1               0  \n",
       "17172  2014/2015               2               2  \n",
       "17300  2014/2015               2               1  \n",
       "17440  2015/2016               0               1  "
      ]
     },
     "execution_count": 25,
     "metadata": {},
     "output_type": "execute_result"
    }
   ],
   "source": [
    "druzyna1 = \"Legia Warszawa\"\n",
    "druzyna2 = \"Lech Poznań\"\n",
    "\n",
    "matches[\n",
    "    ((matches.home_team == druzyna1) | (matches.away_team == druzyna1)) &\n",
    "    ((matches.home_team == druzyna2) | (matches.away_team == druzyna2)) &\n",
    "    (matches.date.dt.year.isin([2010,2011,2012,2013,2014,2015]))\n",
    "]"
   ]
  },
  {
   "cell_type": "markdown",
   "metadata": {},
   "source": [
    "## 2.Znajdź 10 meczów z największą różnicą bramek."
   ]
  },
  {
   "cell_type": "code",
   "execution_count": 31,
   "metadata": {},
   "outputs": [
    {
     "data": {
      "text/html": [
       "<div>\n",
       "<style scoped>\n",
       "    .dataframe tbody tr th:only-of-type {\n",
       "        vertical-align: middle;\n",
       "    }\n",
       "\n",
       "    .dataframe tbody tr th {\n",
       "        vertical-align: top;\n",
       "    }\n",
       "\n",
       "    .dataframe thead th {\n",
       "        text-align: right;\n",
       "    }\n",
       "</style>\n",
       "<table border=\"1\" class=\"dataframe\">\n",
       "  <thead>\n",
       "    <tr style=\"text-align: right;\">\n",
       "      <th></th>\n",
       "      <th>country</th>\n",
       "      <th>league</th>\n",
       "      <th>home_team</th>\n",
       "      <th>away_team</th>\n",
       "      <th>date</th>\n",
       "      <th>season</th>\n",
       "      <th>home_team_goal</th>\n",
       "      <th>away_team_goal</th>\n",
       "      <th>goals_diff</th>\n",
       "    </tr>\n",
       "  </thead>\n",
       "  <tbody>\n",
       "    <tr>\n",
       "      <th>13898</th>\n",
       "      <td>Netherlands</td>\n",
       "      <td>Netherlands Eredivisie</td>\n",
       "      <td>PSV</td>\n",
       "      <td>Feyenoord</td>\n",
       "      <td>2010-10-24</td>\n",
       "      <td>2010/2011</td>\n",
       "      <td>10</td>\n",
       "      <td>0</td>\n",
       "      <td>10</td>\n",
       "    </tr>\n",
       "    <tr>\n",
       "      <th>7660</th>\n",
       "      <td>France</td>\n",
       "      <td>France Ligue 1</td>\n",
       "      <td>ES Troyes AC</td>\n",
       "      <td>Paris Saint-Germain</td>\n",
       "      <td>2016-03-13</td>\n",
       "      <td>2015/2016</td>\n",
       "      <td>0</td>\n",
       "      <td>9</td>\n",
       "      <td>9</td>\n",
       "    </tr>\n",
       "    <tr>\n",
       "      <th>20161</th>\n",
       "      <td>Scotland</td>\n",
       "      <td>Scotland Premier League</td>\n",
       "      <td>Celtic</td>\n",
       "      <td>Aberdeen</td>\n",
       "      <td>2010-11-06</td>\n",
       "      <td>2010/2011</td>\n",
       "      <td>9</td>\n",
       "      <td>0</td>\n",
       "      <td>9</td>\n",
       "    </tr>\n",
       "    <tr>\n",
       "      <th>9761</th>\n",
       "      <td>Germany</td>\n",
       "      <td>Germany 1. Bundesliga</td>\n",
       "      <td>FC Bayern Munich</td>\n",
       "      <td>Hamburger SV</td>\n",
       "      <td>2015-02-14</td>\n",
       "      <td>2014/2015</td>\n",
       "      <td>8</td>\n",
       "      <td>0</td>\n",
       "      <td>8</td>\n",
       "    </tr>\n",
       "    <tr>\n",
       "      <th>22984</th>\n",
       "      <td>Spain</td>\n",
       "      <td>Spain LIGA BBVA</td>\n",
       "      <td>FC Barcelona</td>\n",
       "      <td>CA Osasuna</td>\n",
       "      <td>2011-09-17</td>\n",
       "      <td>2011/2012</td>\n",
       "      <td>8</td>\n",
       "      <td>0</td>\n",
       "      <td>8</td>\n",
       "    </tr>\n",
       "    <tr>\n",
       "      <th>22310</th>\n",
       "      <td>Spain</td>\n",
       "      <td>Spain LIGA BBVA</td>\n",
       "      <td>UD Almería</td>\n",
       "      <td>FC Barcelona</td>\n",
       "      <td>2010-11-20</td>\n",
       "      <td>2010/2011</td>\n",
       "      <td>0</td>\n",
       "      <td>8</td>\n",
       "      <td>8</td>\n",
       "    </tr>\n",
       "    <tr>\n",
       "      <th>2420</th>\n",
       "      <td>England</td>\n",
       "      <td>England Premier League</td>\n",
       "      <td>Chelsea</td>\n",
       "      <td>Wigan Athletic</td>\n",
       "      <td>2010-05-09</td>\n",
       "      <td>2009/2010</td>\n",
       "      <td>8</td>\n",
       "      <td>0</td>\n",
       "      <td>8</td>\n",
       "    </tr>\n",
       "    <tr>\n",
       "      <th>24015</th>\n",
       "      <td>Spain</td>\n",
       "      <td>Spain LIGA BBVA</td>\n",
       "      <td>Real Madrid CF</td>\n",
       "      <td>Granada CF</td>\n",
       "      <td>2015-04-05</td>\n",
       "      <td>2014/2015</td>\n",
       "      <td>9</td>\n",
       "      <td>1</td>\n",
       "      <td>8</td>\n",
       "    </tr>\n",
       "    <tr>\n",
       "      <th>24247</th>\n",
       "      <td>Spain</td>\n",
       "      <td>Spain LIGA BBVA</td>\n",
       "      <td>Real Madrid CF</td>\n",
       "      <td>Rayo Vallecano</td>\n",
       "      <td>2015-12-20</td>\n",
       "      <td>2015/2016</td>\n",
       "      <td>10</td>\n",
       "      <td>2</td>\n",
       "      <td>8</td>\n",
       "    </tr>\n",
       "    <tr>\n",
       "      <th>4375</th>\n",
       "      <td>England</td>\n",
       "      <td>England Premier League</td>\n",
       "      <td>Southampton</td>\n",
       "      <td>Sunderland</td>\n",
       "      <td>2014-10-18</td>\n",
       "      <td>2014/2015</td>\n",
       "      <td>8</td>\n",
       "      <td>0</td>\n",
       "      <td>8</td>\n",
       "    </tr>\n",
       "  </tbody>\n",
       "</table>\n",
       "</div>"
      ],
      "text/plain": [
       "           country                   league         home_team  \\\n",
       "13898  Netherlands   Netherlands Eredivisie               PSV   \n",
       "7660        France           France Ligue 1      ES Troyes AC   \n",
       "20161     Scotland  Scotland Premier League            Celtic   \n",
       "9761       Germany    Germany 1. Bundesliga  FC Bayern Munich   \n",
       "22984        Spain          Spain LIGA BBVA      FC Barcelona   \n",
       "22310        Spain          Spain LIGA BBVA        UD Almería   \n",
       "2420       England   England Premier League           Chelsea   \n",
       "24015        Spain          Spain LIGA BBVA    Real Madrid CF   \n",
       "24247        Spain          Spain LIGA BBVA    Real Madrid CF   \n",
       "4375       England   England Premier League       Southampton   \n",
       "\n",
       "                 away_team       date     season  home_team_goal  \\\n",
       "13898            Feyenoord 2010-10-24  2010/2011              10   \n",
       "7660   Paris Saint-Germain 2016-03-13  2015/2016               0   \n",
       "20161             Aberdeen 2010-11-06  2010/2011               9   \n",
       "9761          Hamburger SV 2015-02-14  2014/2015               8   \n",
       "22984           CA Osasuna 2011-09-17  2011/2012               8   \n",
       "22310         FC Barcelona 2010-11-20  2010/2011               0   \n",
       "2420        Wigan Athletic 2010-05-09  2009/2010               8   \n",
       "24015           Granada CF 2015-04-05  2014/2015               9   \n",
       "24247       Rayo Vallecano 2015-12-20  2015/2016              10   \n",
       "4375            Sunderland 2014-10-18  2014/2015               8   \n",
       "\n",
       "       away_team_goal  goals_diff  \n",
       "13898               0          10  \n",
       "7660                9           9  \n",
       "20161               0           9  \n",
       "9761                0           8  \n",
       "22984               0           8  \n",
       "22310               8           8  \n",
       "2420                0           8  \n",
       "24015               1           8  \n",
       "24247               2           8  \n",
       "4375                0           8  "
      ]
     },
     "execution_count": 31,
     "metadata": {},
     "output_type": "execute_result"
    }
   ],
   "source": [
    "matches['goals_diff'] = abs(matches['home_team_goal'] - matches['away_team_goal'])\n",
    "matches.sort_values('goals_diff', ascending=False).head(10)"
   ]
  },
  {
   "cell_type": "markdown",
   "metadata": {},
   "source": [
    "## 3.Policz liczbę zdobytych i straconych bramek na sezon dla wybranej drużyny. Narysuj wykres obrazujący uzyskane wyniki."
   ]
  },
  {
   "cell_type": "code",
   "execution_count": 45,
   "metadata": {},
   "outputs": [
    {
     "data": {
      "text/plain": [
       "<matplotlib.axes._subplots.AxesSubplot at 0x111fda88>"
      ]
     },
     "execution_count": 45,
     "metadata": {},
     "output_type": "execute_result"
    },
    {
     "data": {
      "image/png": "[encoded data removed]",
      "text/plain": [
       "<Figure size 432x288 with 1 Axes>"
      ]
     },
     "metadata": {
      "needs_background": "light"
     },
     "output_type": "display_data"
    }
   ],
   "source": [
    "team = \"Legia Warszawa\"\n",
    "team_matches = matches[(matches.home_team == team) | (matches.away_team == team)]\n",
    "team_matches = team_matches.reset_index()\n",
    "team_matches['team_goals'] = team_matches.apply(lambda x: x.home_team_goal if x.home_team == team else x.away_team_goal, axis=1)\n",
    "team_matches['opponent_goals'] = team_matches.apply(lambda x: x.away_team_goal if x.home_team == team else x.home_team_goal, axis=1)\n",
    "goals_per_season = team_matches.groupby('season').aggregate({'team_goals': sum, 'opponent_goals': sum})\n",
    "goals_per_season.plot(kind=\"bar\", stacked=True)"
   ]
  },
  {
   "cell_type": "markdown",
   "metadata": {},
   "source": [
    "## 4.Policz średnią liczbę bramek przypadającą na jeden mecz w każdej lidze. Narysuj wykres obrazujący uzyskane wyniki."
   ]
  },
  {
   "cell_type": "code",
   "execution_count": 47,
   "metadata": {},
   "outputs": [],
   "source": [
    "matches['total_goals'] = matches.home_team_goal + matches.away_team_goal"
   ]
  },
  {
   "cell_type": "code",
   "execution_count": 48,
   "metadata": {},
   "outputs": [],
   "source": [
    "goals_per_country = matches.groupby('country').agg({'total_goals': sum})"
   ]
  },
  {
   "cell_type": "code",
   "execution_count": 49,
   "metadata": {},
   "outputs": [
    {
     "data": {
      "text/plain": [
       "Spain          3040\n",
       "England        3040\n",
       "France         3040\n",
       "Italy          3017\n",
       "Germany        2448\n",
       "Netherlands    2448\n",
       "Portugal       2052\n",
       "Poland         1920\n",
       "Scotland       1824\n",
       "Belgium        1728\n",
       "Switzerland    1422\n",
       "Name: country, dtype: int64"
      ]
     },
     "execution_count": 49,
     "metadata": {},
     "output_type": "execute_result"
    }
   ],
   "source": [
    "matches_per_country = matches.country.value_counts()\n",
    "matches_per_country"
   ]
  },
  {
   "cell_type": "code",
   "execution_count": 50,
   "metadata": {},
   "outputs": [
    {
     "data": {
      "text/plain": [
       "Belgium        2.801505\n",
       "England        2.710526\n",
       "France         2.443092\n",
       "Germany        2.901552\n",
       "Italy          2.616838\n",
       "Netherlands    3.080882\n",
       "Poland         2.425000\n",
       "Portugal       2.534600\n",
       "Scotland       2.633772\n",
       "Spain          2.767105\n",
       "Switzerland    2.929677\n",
       "dtype: float64"
      ]
     },
     "execution_count": 50,
     "metadata": {},
     "output_type": "execute_result"
    }
   ],
   "source": [
    "goals_per_match = goals_per_country.total_goals / matches_per_country\n",
    "goals_per_match"
   ]
  },
  {
   "cell_type": "code",
   "execution_count": 52,
   "metadata": {},
   "outputs": [
    {
     "data": {
      "text/plain": [
       "<matplotlib.axes._subplots.AxesSubplot at 0xb2abbc8>"
      ]
     },
     "execution_count": 52,
     "metadata": {},
     "output_type": "execute_result"
    },
    {
     "data": {
      "image/png": "[encoded data removed]",
      "text/plain": [
       "<Figure size 720x360 with 1 Axes>"
      ]
     },
     "metadata": {
      "needs_background": "light"
     },
     "output_type": "display_data"
    }
   ],
   "source": [
    "goals_per_match.sort_values(ascending=False).plot(\n",
    "    kind=\"bar\",\n",
    "    title=\"Goals per match (top leagues in Europe)\",\n",
    "    figsize=(10, 5)\n",
    ")"
   ]
  },
  {
   "cell_type": "code",
   "execution_count": null,
   "metadata": {},
   "outputs": [],
   "source": []
  }
 ],
 "metadata": {
  "kernelspec": {
   "display_name": "Python 3",
   "language": "python",
   "name": "python3"
  },
  "language_info": {
   "codemirror_mode": {
    "name": "ipython",
    "version": 3
   },
   "file_extension": ".py",
   "mimetype": "text/x-python",
   "name": "python",
   "nbconvert_exporter": "python",
   "pygments_lexer": "ipython3",
   "version": "3.7.4"
  }
 },
 "nbformat": 4,
 "nbformat_minor": 2
}
